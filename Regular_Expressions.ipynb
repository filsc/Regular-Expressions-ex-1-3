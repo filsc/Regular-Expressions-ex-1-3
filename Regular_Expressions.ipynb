{
 "cells": [
  {
   "cell_type": "markdown",
   "metadata": {
    "id": "09G0-vjfqv-_"
   },
   "source": [
    "Click <a href='https://www.dataquest.io/blog/web-scraping-tutorial-python/'>here</a> to learn about Regular Expressions (RegEx) using Python."
   ]
  },
  {
   "cell_type": "code",
   "execution_count": null,
   "metadata": {
    "id": "XnNKbcLdqv_M"
   },
   "outputs": [],
   "source": [
    "########################W8D2pm-cdn-60\n",
    "# DO NOT RUN THIS CELL #\n",
    "########################\n",
    "\n",
    "a, X, 9, < -- ordinary characters just match themselves exactly.\n",
    ". (a period) -- matches any single character except newline '\\n'\n",
    "\\w -- matches a \"word\" character: a letter or digit or underbar [a-zA-Z0-9_].\n",
    "\\W -- matches any non-word character.\n",
    "\\b -- matches word boundary (in between a word character and a non word character)\n",
    "\\s -- matches a single whitespace character -- space, newline, return, tab\n",
    "\\S -- matches any non-whitespace character.\n",
    "\\t, \\n, \\r -- tab, newline, return\n",
    "\\d -- matches any numeric digit [0-9]\n",
    "\\D matches any non-numeric character.\n",
    "^ -- matches the beginning of the string, or specify omition of certain characters\n",
    "$ -- matches the end of the string\n",
    "\\ -- escapes special character.\n",
    "(x|y|z) matches exactly one of x, y or z.\n",
    "(x) in general is a remembered group. We can get the value of what matched by using the groups() method of the object returned by re.search.\n",
    "x? matches an optional x character (in other words, it matches an x zero or one times).\n",
    "x* matches x zero or more times.\n",
    "x+ matches x one or more times.\n",
    "x{m,n} matches an x character at least m times, but not more than n times.\n",
    "?: matches an expression but do not capture it. Non capturing group.\n",
    "?= matches a suffix but exclude it from capture. Positive lookahead.\n",
    "a(?=b) will match the \"a\" in \"ab\", but not the \"a\" in \"ac\"\n",
    "In other words, a(?=b) matches the \"a\" which is followed by the string 'b', without consuming what follows the a.\n",
    "?! matches if suffix is absent. Negative look ahead.\n",
    "a(?!b) will match the \"a\" in \"ac\", but not the \"a\" in \"ab\"\n",
    "?<= positive look behind\n",
    "[] matches for groupings of consecutive characters\n",
    "?<! negative look behind\n",
    "\n",
    "########################\n",
    "# DO NOT RUN THIS CELL #\n",
    "########################"
   ]
  },
  {
   "cell_type": "markdown",
   "metadata": {
    "id": "aQbvpMJKqv_O"
   },
   "source": [
    "What are word boundaries?\n",
    "--------------------------------------------------\n",
    "Before the first character in the string, if the first character is a word character.<br>\n",
    "After the last character in the string, if the last character is a word character.<br>\n",
    "Between two characters in the string, where one is a word character and the other is not a word character<br>"
   ]
  },
  {
   "cell_type": "code",
   "execution_count": 8,
   "metadata": {
    "id": "peZsLyEVqv_O"
   },
   "outputs": [],
   "source": [
    "import re\n",
    "\n",
    "# open a new data stream into a file\n",
    "file = open('./names.txt', encoding='utf-8')\n",
    "\n",
    "#utf-8 is a character set\n",
    "# read the text of the file and store it as data\n",
    "data = file.read()\n",
    "\n",
    "# always close the data stream: prevents memomory leakage \n",
    "file.close()"
   ]
  },
  {
   "cell_type": "code",
   "execution_count": 9,
   "metadata": {
    "id": "ivoXNTnyqv_P",
    "scrolled": true
   },
   "outputs": [
    {
     "data": {
      "text/plain": [
       "<re.Match object; span=(0, 7), match='Hawkins'>"
      ]
     },
     "execution_count": 9,
     "metadata": {},
     "output_type": "execute_result"
    }
   ],
   "source": [
    "# .match() - Checks for specific strings starting from the beginning of a string; Looking for a raw string\n",
    "re.match(r'Hawkins', data)"
   ]
  },
  {
   "cell_type": "code",
   "execution_count": 10,
   "metadata": {},
   "outputs": [],
   "source": [
    "re.match(r'Johnson', data)"
   ]
  },
  {
   "cell_type": "code",
   "execution_count": 11,
   "metadata": {
    "id": "WcUg8wC0qv_Q"
   },
   "outputs": [
    {
     "data": {
      "text/plain": [
       "<re.Match object; span=(169, 176), match='Johnson'>"
      ]
     },
     "execution_count": 11,
     "metadata": {},
     "output_type": "execute_result"
    }
   ],
   "source": [
    "# .search() - Looks for FIRST matching string anywhere in the searchable text string\n",
    "re.search(r'Johnson', data)"
   ]
  },
  {
   "cell_type": "code",
   "execution_count": 15,
   "metadata": {
    "id": "4tvQcrJyqv_X"
   },
   "outputs": [
    {
     "data": {
      "text/plain": [
       "<re.Match object; span=(6, 10), match='s, D'>"
      ]
     },
     "execution_count": 15,
     "metadata": {},
     "output_type": "execute_result"
    }
   ],
   "source": [
    "re.search(r'\\w, \\w', data)"
   ]
  },
  {
   "cell_type": "code",
   "execution_count": 12,
   "metadata": {
    "scrolled": true
   },
   "outputs": [
    {
     "data": {
      "text/plain": [
       "<re.Match object; span=(0, 14), match='Hawkins, Derek'>"
      ]
     },
     "execution_count": 12,
     "metadata": {},
     "output_type": "execute_result"
    }
   ],
   "source": [
    "re.search(r'\\w\\w\\w\\w\\w\\w\\w, \\w\\w\\w\\w\\w', data)"
   ]
  },
  {
   "cell_type": "code",
   "execution_count": 13,
   "metadata": {
    "scrolled": true
   },
   "outputs": [
    {
     "data": {
      "text/plain": [
       "<re.Match object; span=(0, 14), match='Hawkins, Derek'>"
      ]
     },
     "execution_count": 13,
     "metadata": {},
     "output_type": "execute_result"
    }
   ],
   "source": [
    "re.search(r'\\w{7}, \\w{5}', data)"
   ]
  },
  {
   "cell_type": "code",
   "execution_count": 19,
   "metadata": {},
   "outputs": [
    {
     "data": {
      "text/plain": [
       "<re.Match object; span=(613, 625), match='555 555-5551'>"
      ]
     },
     "execution_count": 19,
     "metadata": {},
     "output_type": "execute_result"
    }
   ],
   "source": [
    "re.search(r'(\\d\\d\\d) \\d\\d\\d-\\d\\d\\d\\d', data)"
   ]
  },
  {
   "cell_type": "code",
   "execution_count": 14,
   "metadata": {
    "scrolled": true
   },
   "outputs": [
    {
     "data": {
      "text/plain": [
       "<re.Match object; span=(38, 52), match='(555) 555-5555'>"
      ]
     },
     "execution_count": 14,
     "metadata": {},
     "output_type": "execute_result"
    }
   ],
   "source": [
    "#\\, and escape character after r' is how it is now able to pick up the ()\n",
    "re.search(r'\\(\\d\\d\\d\\) \\d\\d\\d-\\d\\d\\d\\d', data)"
   ]
  },
  {
   "cell_type": "code",
   "execution_count": 15,
   "metadata": {},
   "outputs": [
    {
     "data": {
      "text/plain": [
       "'rrrrr'"
      ]
     },
     "execution_count": 15,
     "metadata": {},
     "output_type": "execute_result"
    }
   ],
   "source": [
    "'r' * 5"
   ]
  },
  {
   "cell_type": "markdown",
   "metadata": {
    "id": "_jhz8AUKqv_X"
   },
   "source": [
    "<strong>Exercise 1</strong>:<br>\n",
    "Write a function that checks for n number of consecutive digits and returns the match"
   ]
  },
  {
   "cell_type": "code",
   "execution_count": 16,
   "metadata": {
    "id": "yZlrEcPOqv_Y"
   },
   "outputs": [
    {
     "data": {
      "text/plain": [
       "<re.Match object; span=(39, 42), match='555'>"
      ]
     },
     "execution_count": 16,
     "metadata": {},
     "output_type": "execute_result"
    }
   ],
   "source": [
    "def find_digits(n, searchable_text):\n",
    "    return re.search(r'\\d'*n, searchable_text)\n",
    "\n",
    "find_digits(3, data)"
   ]
  },
  {
   "cell_type": "code",
   "execution_count": 19,
   "metadata": {
    "id": "8l7ImT9Mqv_Y"
   },
   "outputs": [],
   "source": [
    "# find(4, data) => <re.Match object; span=(XX, XX), match='5555'>"
   ]
  },
  {
   "cell_type": "code",
   "execution_count": 21,
   "metadata": {
    "id": "W7nx1V4lqv_Z",
    "scrolled": true
   },
   "outputs": [
    {
     "data": {
      "text/plain": [
       "['(555) 555-5555', '(555) 555-5555', '(555) 555-5555']"
      ]
     },
     "execution_count": 21,
     "metadata": {},
     "output_type": "execute_result"
    }
   ],
   "source": [
    "# .findall() - Looks for matching string anywhere in the searchable text string and stores each instance into a list\n",
    "phone_numbers = \"(555) 555-5555 (555) 555-5555 (555) 555-5555 555 555-5555 555 555-5555 555-555-5555 555-555-5555 555-555-5555 555-555-5555 555-555-5555\"\n",
    "re.findall(r'\\(\\d\\d\\d\\) \\d\\d\\d-\\d\\d\\d\\d', phone_numbers)"
   ]
  },
  {
   "cell_type": "code",
   "execution_count": 22,
   "metadata": {
    "id": "dxvMzhYoqv_Z"
   },
   "outputs": [
    {
     "data": {
      "text/plain": [
       "['(555) 555-5555', '(555) 555-5555', '(555) 555-5555']"
      ]
     },
     "execution_count": 22,
     "metadata": {},
     "output_type": "execute_result"
    }
   ],
   "source": [
    "# find numbers with parans\n",
    "re.findall(r'\\(\\d{3}\\) \\d{3}-\\d{4}', phone_numbers)"
   ]
  },
  {
   "cell_type": "code",
   "execution_count": 55,
   "metadata": {
    "id": "-_R3XAAoqv_Z"
   },
   "outputs": [
    {
     "data": {
      "text/plain": [
       "['(555) 555-5555',\n",
       " '(555) 555-5555',\n",
       " '(555) 555-5555',\n",
       " '555 555-5555',\n",
       " '555 555-5555']"
      ]
     },
     "execution_count": 55,
     "metadata": {},
     "output_type": "execute_result"
    }
   ],
   "source": [
    "# also find numbers with/without parans\n",
    "#? optional characters put if after the optional character\n",
    "re.findall(r'\\(?\\d{3}\\)? \\d{3}-\\d{4}', phone_numbers)"
   ]
  },
  {
   "cell_type": "code",
   "execution_count": 24,
   "metadata": {
    "id": "K8MrS5T7qv_a",
    "scrolled": true
   },
   "outputs": [
    {
     "data": {
      "text/plain": [
       "['(555) 555-5555',\n",
       " '(555) 555-5555',\n",
       " '(555) 555-5555',\n",
       " '555 555-5555',\n",
       " '555 555-5555',\n",
       " '555-555-5555',\n",
       " '555-555-5555',\n",
       " '555-555-5555',\n",
       " '555-555-5555',\n",
       " '555-555-5555']"
      ]
     },
     "execution_count": 24,
     "metadata": {},
     "output_type": "execute_result"
    }
   ],
   "source": [
    "# also find numbers without parans, with hyphens\n",
    "#\\s, space character and an optional -\n",
    "re.findall(r'\\(?\\d{3}\\)?\\s?-?\\d{3}-\\d{4}', phone_numbers)"
   ]
  },
  {
   "cell_type": "code",
   "execution_count": 26,
   "metadata": {
    "id": "4WEZJJlRqv_b",
    "scrolled": true
   },
   "outputs": [
    {
     "data": {
      "text/plain": [
       "['(555) 555-5555',\n",
       " '(555) 555-5554',\n",
       " '(555) 555-5543',\n",
       " '555-555-5552',\n",
       " '555 555-5551',\n",
       " '(555) 555-5553',\n",
       " '(555) 555-4444']"
      ]
     },
     "execution_count": 26,
     "metadata": {},
     "output_type": "execute_result"
    }
   ],
   "source": [
    "re.findall(r'\\(?\\d{3}\\)?\\s?-?\\d{3}-\\d{4}', data)"
   ]
  },
  {
   "cell_type": "code",
   "execution_count": 60,
   "metadata": {
    "scrolled": true
   },
   "outputs": [
    {
     "data": {
      "text/plain": [
       "['Hawkins, Derek',\n",
       " 'Teacher, Coding',\n",
       " 'Milliken, Connor',\n",
       " 'Teacher, Coding',\n",
       " 'Johnson, Joe',\n",
       " 'Carter, Joel',\n",
       " 'Österberg, Sven',\n",
       " 'Governor, Norrbotten',\n",
       " 'Enchanter, Killer',\n",
       " 'Butz, Ryan',\n",
       " 'CEO, Coding',\n",
       " 'Doctor, The',\n",
       " 'Lord, Gallifrey',\n",
       " 'Exampleson, Example',\n",
       " 'Example, Example',\n",
       " 'Obama, Barack',\n",
       " 'President, United',\n",
       " 'Patel, Ripal',\n",
       " 'Teacher, Coding',\n",
       " 'Vader, Darth',\n",
       " 'Lord, Galactic',\n",
       " 'Sanz, María',\n",
       " 'Minister, Spanish']"
      ]
     },
     "execution_count": 60,
     "metadata": {},
     "output_type": "execute_result"
    }
   ],
   "source": [
    "# Search for names\n",
    "#\\w+, more than 1 word character\n",
    "re.findall(r'\\w+, \\w+', data)"
   ]
  },
  {
   "cell_type": "code",
   "execution_count": 27,
   "metadata": {},
   "outputs": [
    {
     "data": {
      "text/plain": [
       "['derek@codingtemple.com',\n",
       " 'connor@codingtemple.com',\n",
       " 'joejohnson@codingtemple.com',\n",
       " 'governor@norrbotten.co.se',\n",
       " 'tim@killerrabbit.com',\n",
       " 'ryanb@codingtemple.com',\n",
       " 'doctor+companion@tardis.co.uk',\n",
       " 'me@example.com',\n",
       " 'president.44@us.gov',\n",
       " 'ripalp@codingtemple.com',\n",
       " 'vader@empire.gov',\n",
       " 'mtfvs@spain.gov']"
      ]
     },
     "execution_count": 27,
     "metadata": {},
     "output_type": "execute_result"
    }
   ],
   "source": [
    "# Search for emails\n",
    "#[] matches for groupings of consecutive characters; \n",
    "re.findall(r'[\\d\\w\\'-+.]+@[-.\\w\\d]+', data)"
   ]
  },
  {
   "cell_type": "code",
   "execution_count": 37,
   "metadata": {
    "id": "QKvYNCRQqv_c"
   },
   "outputs": [
    {
     "data": {
      "text/plain": [
       "['@codingtemple.com',\n",
       " '@codingtemple.com',\n",
       " '@codingtemple.gov',\n",
       " '@codingtemple.com',\n",
       " '@codingtemple.com']"
      ]
     },
     "execution_count": 37,
     "metadata": {},
     "output_type": "execute_result"
    }
   ],
   "source": [
    "# re.VERBOSE/re.X - Allows *multiline regular expressions*\n",
    "# re.IGNORECASE/re.I - Ignores casing\n",
    "information = \"\"\"\n",
    "Patel, Ripal: ripalp@codingtemple.com : 555 555-5555\n",
    "Carter, Joel: joelc@codingtemple.com : (555) 555-5555\n",
    "Butz, Ryan: ryanb@codingtemple.gov : (555) 555-5555\n",
    "Stanton, Brain: brians@codingtemple.com : 555-555-5555\n",
    "Davitt, Sam: samd@codingtemple.com : (555) 555-5555\n",
    "\"\"\"\n",
    "re.findall(r'''\n",
    "    @[-.\\w\\d]+           # @symbol, any numbers of characters/digits\n",
    "''', information, re.X|re.I)"
   ]
  },
  {
   "cell_type": "code",
   "execution_count": 43,
   "metadata": {
    "id": "jffQg8ayqv_d"
   },
   "outputs": [
    {
     "data": {
      "text/plain": [
       "[('Patel, Ripal', ': ripalp@codingtemple.com', ' : 555 555-5555'),\n",
       " ('Carter, Joel', ': joelc@codingtemple.com', ' : (555) 555-5555'),\n",
       " ('Butz, Ryan', ': ryanb@codingtemple.gov', ' : (555) 555-5555'),\n",
       " ('Stanton, Brain', ': brians@codingtemple.com', ' : 555-555-5555'),\n",
       " ('Davitt, Sam', ': samd@codingtemple.com', ' : (555) 555-5555')]"
      ]
     },
     "execution_count": 43,
     "metadata": {},
     "output_type": "execute_result"
    }
   ],
   "source": [
    "re.findall(r'''\n",
    "    ([\\w]+,\\s[\\w]+)                     # last, first  ;one or more word characters, space, one or more word characters\n",
    "    (:\\s[\\d\\w\\'-+.]+@[-.\\w\\d]+)         # email ; two groups in between []\n",
    "    (\\s:\\s\\(?\\d{3}\\)?\\s?-?\\d{3}-\\d{4})  # phone\n",
    "''', information, re.X)"
   ]
  },
  {
   "cell_type": "code",
   "execution_count": 44,
   "metadata": {},
   "outputs": [],
   "source": [
    "# ^ store as a variable \n",
    "\n",
    "info = re.findall(r'''\n",
    "    ([\\w]+,\\s[\\w]+)                     # last, first  ;one or more word characters, space, one or more word characters\n",
    "    (:\\s[\\d\\w\\'-+.]+@[-.\\w\\d]+)         # email ; two groups in between []\n",
    "    (\\s:\\s\\(?\\d{3}\\)?\\s?-?\\d{3}-\\d{4})  # phone\n",
    "''', information, re.X)"
   ]
  },
  {
   "cell_type": "code",
   "execution_count": 45,
   "metadata": {},
   "outputs": [
    {
     "name": "stdout",
     "output_type": "stream",
     "text": [
      "('Patel, Ripal', ': ripalp@codingtemple.com', ' : 555 555-5555')\n",
      "('Carter, Joel', ': joelc@codingtemple.com', ' : (555) 555-5555')\n",
      "('Butz, Ryan', ': ryanb@codingtemple.gov', ' : (555) 555-5555')\n",
      "('Stanton, Brain', ': brians@codingtemple.com', ' : 555-555-5555')\n",
      "('Davitt, Sam', ': samd@codingtemple.com', ' : (555) 555-5555')\n"
     ]
    }
   ],
   "source": [
    "#loop through list\n",
    "for i in info: \n",
    "    print(i)"
   ]
  },
  {
   "cell_type": "code",
   "execution_count": 46,
   "metadata": {},
   "outputs": [
    {
     "name": "stdout",
     "output_type": "stream",
     "text": [
      "[{'name': 'Patel, Ripal', 'email': 'ripalp@codingtemple.com', 'phone': '555 555-5555'}, {'name': 'Carter, Joel', 'email': 'joelc@codingtemple.com', 'phone': '(555) 555-5555'}, {'name': 'Butz, Ryan', 'email': 'ryanb@codingtemple.gov', 'phone': '(555) 555-5555'}, {'name': 'Stanton, Brain', 'email': 'brians@codingtemple.com', 'phone': '555-555-5555'}, {'name': 'Davitt, Sam', 'email': 'samd@codingtemple.com', 'phone': '(555) 555-5555'}]\n"
     ]
    }
   ],
   "source": [
    "info_list = []\n",
    "for i in info:\n",
    "    obj_data = {\n",
    "        'name': i[0],\n",
    "        'email': i[1][2:], #will begin at the 2: index\n",
    "        'phone': i[2][3:]  #will begin at the 3: index\n",
    "    }\n",
    "    info_list.append(obj_data)\n",
    "print (info_list)"
   ]
  },
  {
   "cell_type": "code",
   "execution_count": 48,
   "metadata": {},
   "outputs": [
    {
     "name": "stdout",
     "output_type": "stream",
     "text": [
      "{'name': 'Patel, Ripal', 'email': 'ripalp@codingtemple.com', 'phone': '555 555-5555'}\n",
      "{'name': 'Carter, Joel', 'email': 'joelc@codingtemple.com', 'phone': '(555) 555-5555'}\n",
      "{'name': 'Butz, Ryan', 'email': 'ryanb@codingtemple.gov', 'phone': '(555) 555-5555'}\n",
      "{'name': 'Stanton, Brain', 'email': 'brians@codingtemple.com', 'phone': '555-555-5555'}\n",
      "{'name': 'Davitt, Sam', 'email': 'samd@codingtemple.com', 'phone': '(555) 555-5555'}\n"
     ]
    }
   ],
   "source": [
    "for i in info_list:\n",
    "    print(i)"
   ]
  },
  {
   "cell_type": "code",
   "execution_count": 47,
   "metadata": {
    "id": "_kcAC25nqv_f",
    "scrolled": true
   },
   "outputs": [
    {
     "name": "stdout",
     "output_type": "stream",
     "text": [
      "Patel, Ripal\n",
      "ripalp@codingtemple.com\n",
      "555 555-5555\n",
      "\n",
      "Carter, Joel\n",
      "joelc@codingtemple.com\n",
      "(555) 555-5555\n",
      "\n",
      "Butz, Ryan\n",
      "ryanb@codingtemple.gov\n",
      "(555) 555-5555\n",
      "\n",
      "Stanton, Brain\n",
      "brians@codingtemple.com\n",
      "555-555-5555\n",
      "\n",
      "Davitt, Sam\n",
      "samd@codingtemple.com\n",
      "(555) 555-5555\n",
      "\n"
     ]
    }
   ],
   "source": [
    "info_list = []\n",
    "for i in info:\n",
    "    obj_data = {\n",
    "        'name': i[0],\n",
    "        'email': i[1][2:], #will begin at the 2: index\n",
    "        'phone': i[2][3:]  #will begin at the 3: index\n",
    "    }\n",
    "    info_list.append(obj_data)\n",
    "\n",
    "for i in info_list:\n",
    "    print(i['name'])\n",
    "    print(i['email'])\n",
    "    print(i['phone'])\n",
    "    print()\n",
    "    \n",
    "#Way #1"
   ]
  },
  {
   "cell_type": "code",
   "execution_count": null,
   "metadata": {},
   "outputs": [],
   "source": []
  },
  {
   "cell_type": "code",
   "execution_count": 118,
   "metadata": {},
   "outputs": [],
   "source": [
    "#build a pattern for for to search for\n",
    "info = re.compile(r'''\n",
    "    (?P<name>[\\w]+,\\s[\\w]+)                     # last, first\n",
    "    (?P<email>:\\s[\\d\\w\\'-+.]+@[-.\\w\\d]+)        # email\n",
    "    (?P<phone>\\s:\\s\\(?\\d{3}\\)?\\s?-?\\d{3}-\\d{4}) # phone\n",
    "''', re.X|re.I)"
   ]
  },
  {
   "cell_type": "code",
   "execution_count": 119,
   "metadata": {},
   "outputs": [],
   "source": [
    "for i in info.finditer(information):\n",
    "    print(i)"
   ]
  },
  {
   "cell_type": "code",
   "execution_count": 120,
   "metadata": {},
   "outputs": [],
   "source": [
    "#we could reference by name etc\n",
    "for i in info.finditer(information):\n",
    "    print(i.group('name'))"
   ]
  },
  {
   "cell_type": "code",
   "execution_count": 121,
   "metadata": {},
   "outputs": [],
   "source": [
    "# w. labels\n",
    "for i in info.finditer(information):\n",
    "    print(f\"Name: {i.group('name')}\")"
   ]
  },
  {
   "cell_type": "code",
   "execution_count": 106,
   "metadata": {},
   "outputs": [
    {
     "name": "stdout",
     "output_type": "stream",
     "text": [
      "Name: Patel, Ripal\n",
      "Email: : ripalp@codingtemple.com\n",
      "Phone:  : 555 555-5555\n",
      "\n",
      "Name: Carter, Joel\n",
      "Email: : joelc@codingtemple.com\n",
      "Phone:  : (555) 555-5555\n",
      "\n",
      "Name: Butz, Ryan\n",
      "Email: : ryanb@codingtemple.gov\n",
      "Phone:  : (555) 555-5555\n",
      "\n",
      "Name: Stanton, Brain\n",
      "Email: : brians@codingtemple.com\n",
      "Phone:  : 555-555-5555\n",
      "\n",
      "Name: Davitt, Sam\n",
      "Email: : samd@codingtemple.com\n",
      "Phone:  : (555) 555-5555\n",
      "\n"
     ]
    }
   ],
   "source": [
    "for i in info.finditer(information):\n",
    "    print(f\"Name: {i.group('name')}\\nEmail: {i.group('email')}\\nPhone: {i.group('phone')}\\n\")\n",
    "\n",
    "#Way 2 using a compiler"
   ]
  },
  {
   "cell_type": "code",
   "execution_count": null,
   "metadata": {
    "id": "FO3hXz2Wqv_i"
   },
   "outputs": [],
   "source": []
  },
  {
   "cell_type": "markdown",
   "metadata": {
    "id": "9OdDhA0Yqv_i"
   },
   "source": [
    "##### Homework Exercise 1:\n",
    "\n",
    "Write a function using regular expressions to find the domain name in the given email addresses (and return None for the invalid email addresses)<br><b>HINT: Use '|' for either or</b>"
   ]
  },
  {
   "cell_type": "code",
   "execution_count": null,
   "metadata": {
    "id": "fnEUb_qZqv_j"
   },
   "outputs": [],
   "source": [
    "my_emails = [\"jordanw@codingtemple.orgcom\", \"pocohontas1776@gmail.com\", \"helloworld@aol..com\", \"yourfavoriteband@g6.org\", \"@codingtemple.com\"]"
   ]
  },
  {
   "cell_type": "code",
   "execution_count": 74,
   "metadata": {},
   "outputs": [],
   "source": [
    "import re\n",
    "\n",
    "my_emails = [\"jordanw@codingtemple.orgcom\", \"pocohontas1776@gmail.com\", \"helloworld@aol..com\", \"yourfavoriteband@g6.org\", \"@codingtemple.com\"]\n",
    "\n",
    "def domain_emails(n):\n",
    "    n = re.findall(r'@[\\w\\d]+[.]com|@[\\w\\d]+[.]org', str(n))\n",
    "    return (n)\n",
    "    if n != re.findall(r'@[\\w\\d]+[.]com|@[\\w\\d]+[.]org', str(n)):\n",
    "        return None\n",
    "    \n",
    "\n"
   ]
  },
  {
   "cell_type": "code",
   "execution_count": 73,
   "metadata": {},
   "outputs": [
    {
     "name": "stdout",
     "output_type": "stream",
     "text": [
      "['@codingtemple.org', '@gmail.com', '@g6.org', '@codingtemple.com']\n"
     ]
    }
   ],
   "source": [
    "print(domain_emails(my_emails))"
   ]
  },
  {
   "cell_type": "markdown",
   "metadata": {
    "id": "GrUS6toGqv_i"
   },
   "source": [
    "##### Homework exercise 2: \n",
    "\n",
    "Use a regular expression to find every number in the given string"
   ]
  },
  {
   "cell_type": "code",
   "execution_count": null,
   "metadata": {},
   "outputs": [],
   "source": []
  },
  {
   "cell_type": "code",
   "execution_count": 117,
   "metadata": {},
   "outputs": [
    {
     "data": {
      "text/plain": [
       "['1776', '6']"
      ]
     },
     "execution_count": 117,
     "metadata": {},
     "output_type": "execute_result"
    }
   ],
   "source": [
    "import re\n",
    "\n",
    "re.findall(r'[\\d]+', str(my_emails))"
   ]
  },
  {
   "cell_type": "markdown",
   "metadata": {
    "id": "5PaSgzNfqv_j"
   },
   "source": [
    "### Homework Exercise #3 <br>\n",
    "<p>Print each persons name and twitter handle etc., using groups, should look like:</p>"
   ]
  },
  {
   "cell_type": "code",
   "execution_count": 3,
   "metadata": {
    "id": "uCqCIM4wqv_f"
   },
   "outputs": [],
   "source": [
    "# [\n",
    "#     (First and last name,\n",
    "#      email, \n",
    "#      phone,\n",
    "#      title,\n",
    "#      Twitter handle)\n",
    "# ]"
   ]
  },
  {
   "cell_type": "code",
   "execution_count": 161,
   "metadata": {
    "id": "7kT3QdAUqv_j",
    "scrolled": true
   },
   "outputs": [
    {
     "data": {
      "text/plain": [
       "['Hawkins, Derek',\n",
       " 'Milliken, Connor',\n",
       " 'Österberg, Sven',\n",
       " 'Tim, Buck',\n",
       " 'Butz, Ryan',\n",
       " 'Exampleson, Example',\n",
       " 'Obama, Barack',\n",
       " 'Patel, Ripal',\n",
       " 'Vader, Darth',\n",
       " 'Sanz, María']"
      ]
     },
     "execution_count": 161,
     "metadata": {},
     "output_type": "execute_result"
    }
   ],
   "source": [
    "import re\n",
    "\n",
    "file = open('./names.txt', encoding='utf-8')\n",
    "\n",
    "data = file.read()\n",
    "\n",
    "file.close()\n",
    "\n",
    "ex3 = \"\"\"\n",
    "Hawkins, Derek: derek@codingtemple.com: (555) 555-5555  Teacher- Coding Temple: @derekhawkins\n",
    "Milliken, Connor: connor@codingtemple.com: (555) 555-5554  Teacher- Coding Temple: @connor\n",
    "Österberg, Sven-Erik: governor@norrbotten.co.se (555) 555-5555  Governor- Norrbotten: @sverik\n",
    "Tim, Buck: tim@killerrabbit.com: (555) 555-5555 Enchanter- Killer Rabbit: @tim\n",
    "Butz, Ryan: ryanb@codingtemple.com: (555) 555-5543  CEO- Coding Temple: @ryanbutz\n",
    "Exampleson, Example: me@example.com: (555) 555-5555  Example- Example Co.: @example\n",
    "Obama, Barack: president.44@us.gov: (555) 555-5555  President- United States of America: @potus44\n",
    "Patel, Ripal: ripalp@codingtemple.com: (555) 555-5553  Teacher- Coding Temple: @ripalp\n",
    "Vader, Darth: darth-vader@empire.gov: (555) 555-4444  Sith Lord- Galactic Empire: @darthvader\n",
    "Fernández de la Vega Sanz, María Teresa: mtfvs@spain.gov: (555) 555-5555  First Deputy Prime Minister- Spanish Govt.: @spain\n",
    "\"\"\"\n",
    "re.findall(r'''\n",
    "    [\\w]+,\\s[\\w]+\n",
    "''', ex3, re.X|re.I)"
   ]
  },
  {
   "cell_type": "code",
   "execution_count": 158,
   "metadata": {},
   "outputs": [],
   "source": [
    "#attempting compiler method\n",
    "# re.findall(r'''\n",
    "#     ([\\w]+,\\s[\\w]+)                      # last, first\n",
    "#     (:\\s[\\d\\w\\'-+.]+@[-.\\w\\d]+)          # email\n",
    "#     (\\s(\\d{3}\\)\\s\\d{3}-\\d{4})            # phone\n",
    "#     (\\s:\\s:\\s[\\w]+,\\s[w]+\\s[w]+)         # title\n",
    "#     (\\s:\\s:\\s:\\s@[\\w\\d]+)                # twitter\n",
    "# ''', ex3, re.X)\n"
   ]
  },
  {
   "cell_type": "code",
   "execution_count": null,
   "metadata": {},
   "outputs": [],
   "source": [
    "for i in ex3: \n",
    "    print(i)"
   ]
  },
  {
   "cell_type": "code",
   "execution_count": 173,
   "metadata": {},
   "outputs": [],
   "source": [
    "#attempting the other method; looping\n",
    "ex3_info = []\n",
    "for i in ex3:\n",
    "    obj_data = {\n",
    "        'name': i[0],\n",
    "#         'email': i[1][2:],\n",
    "#         'phone': i[2][3:],\n",
    "#         'title': i[3][4:],\n",
    "#         'twitter': i[4][5:]\n",
    "    }\n",
    "    info_list.append(obj_data)\n",
    "    \n",
    "\n"
   ]
  },
  {
   "cell_type": "code",
   "execution_count": 171,
   "metadata": {},
   "outputs": [
    {
     "name": "stdout",
     "output_type": "stream",
     "text": [
      "[]\n"
     ]
    }
   ],
   "source": [
    "print(ex3_info)"
   ]
  },
  {
   "cell_type": "code",
   "execution_count": 174,
   "metadata": {},
   "outputs": [
    {
     "name": "stdout",
     "output_type": "stream",
     "text": [
      "\n",
      "\n"
     ]
    },
    {
     "ename": "KeyError",
     "evalue": "'email'",
     "output_type": "error",
     "traceback": [
      "\u001b[0;31m---------------------------------------------------------------------------\u001b[0m",
      "\u001b[0;31mKeyError\u001b[0m                                  Traceback (most recent call last)",
      "\u001b[0;32m<ipython-input-174-b42fc0cd3890>\u001b[0m in \u001b[0;36m<module>\u001b[0;34m\u001b[0m\n\u001b[1;32m      1\u001b[0m \u001b[0;32mfor\u001b[0m \u001b[0mi\u001b[0m \u001b[0;32min\u001b[0m \u001b[0minfo_list\u001b[0m\u001b[0;34m:\u001b[0m\u001b[0;34m\u001b[0m\u001b[0;34m\u001b[0m\u001b[0m\n\u001b[1;32m      2\u001b[0m     \u001b[0mprint\u001b[0m\u001b[0;34m(\u001b[0m\u001b[0mi\u001b[0m\u001b[0;34m[\u001b[0m\u001b[0;34m'name'\u001b[0m\u001b[0;34m]\u001b[0m\u001b[0;34m)\u001b[0m\u001b[0;34m\u001b[0m\u001b[0;34m\u001b[0m\u001b[0m\n\u001b[0;32m----> 3\u001b[0;31m     \u001b[0mprint\u001b[0m\u001b[0;34m(\u001b[0m\u001b[0mi\u001b[0m\u001b[0;34m[\u001b[0m\u001b[0;34m'email'\u001b[0m\u001b[0;34m]\u001b[0m\u001b[0;34m)\u001b[0m\u001b[0;34m\u001b[0m\u001b[0;34m\u001b[0m\u001b[0m\n\u001b[0m\u001b[1;32m      4\u001b[0m     \u001b[0mprint\u001b[0m\u001b[0;34m(\u001b[0m\u001b[0mi\u001b[0m\u001b[0;34m[\u001b[0m\u001b[0;34m'phone'\u001b[0m\u001b[0;34m]\u001b[0m\u001b[0;34m)\u001b[0m\u001b[0;34m\u001b[0m\u001b[0;34m\u001b[0m\u001b[0m\n\u001b[1;32m      5\u001b[0m     \u001b[0mprint\u001b[0m\u001b[0;34m(\u001b[0m\u001b[0mi\u001b[0m\u001b[0;34m[\u001b[0m\u001b[0;34m'title'\u001b[0m\u001b[0;34m]\u001b[0m\u001b[0;34m)\u001b[0m\u001b[0;34m\u001b[0m\u001b[0;34m\u001b[0m\u001b[0m\n",
      "\u001b[0;31mKeyError\u001b[0m: 'email'"
     ]
    }
   ],
   "source": [
    "# for i in info_list:\n",
    "#     print(i['name'])\n",
    "#     print(i['email'])\n",
    "#     print(i['phone'])\n",
    "#     print(i['title'])\n",
    "#     print(i['twitter'])\n",
    "#     print()"
   ]
  },
  {
   "cell_type": "code",
   "execution_count": null,
   "metadata": {},
   "outputs": [],
   "source": []
  }
 ],
 "metadata": {
  "colab": {
   "name": "Regular Expressions.ipynb",
   "provenance": []
  },
  "kernelspec": {
   "display_name": "Python 3",
   "language": "python",
   "name": "python3"
  },
  "language_info": {
   "codemirror_mode": {
    "name": "ipython",
    "version": 3
   },
   "file_extension": ".py",
   "mimetype": "text/x-python",
   "name": "python",
   "nbconvert_exporter": "python",
   "pygments_lexer": "ipython3",
   "version": "3.8.5"
  }
 },
 "nbformat": 4,
 "nbformat_minor": 1
}
